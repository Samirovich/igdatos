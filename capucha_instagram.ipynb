{
 "cells": [
  {
   "cell_type": "markdown",
   "metadata": {},
   "source": [
    "# Rescatar datos\n",
    "## Login\n",
    "Primero importar biblioteca para extraer datos de Instagram y hacer el login leyendo los datos de usuario desde un archivo para mantenerlos secretos"
   ]
  },
  {
   "cell_type": "code",
   "execution_count": 1,
   "metadata": {},
   "outputs": [],
   "source": [
    "# Importar bibliotecas\n",
    "import instaloader\n",
    "import json\n",
    "import os\n",
    "import matplotlib.pyplot as plt\n",
    "import pandas as pd"
   ]
  },
  {
   "cell_type": "code",
   "execution_count": 2,
   "metadata": {},
   "outputs": [],
   "source": [
    "BASE_DIR = os.getcwd()\n",
    "secrets = {}\n",
    "with open(os.path.join(BASE_DIR, 'secrets.json'), 'r') as f:\n",
    "    secrets = json.load(f)\n",
    "user = secrets['user']\n",
    "password = secrets['password']\n",
    "\n",
    "loader = instaloader.Instaloader()\n",
    "loader.login(user, password)"
   ]
  },
  {
   "cell_type": "markdown",
   "metadata": {},
   "source": [
    "## Recuperación de datos\n",
    "Ahora vamos a rescatar los datos de las cuentas en la variable homónima y guardarlos en una variable llamada data"
   ]
  },
  {
   "cell_type": "code",
   "execution_count": 3,
   "metadata": {},
   "outputs": [],
   "source": [
    "# Acá en cuentas agregar/quitar cuentas que se quieran estudiar\n",
    "cuentas = ['capucha_informa',]\n",
    "data = {}\n",
    "for cuenta in cuentas:\n",
    "    profile = instaloader.Profile.from_username(loader.context, cuenta)\n",
    "    posts = profile.get_posts()\n",
    "    data[cuenta] = posts"
   ]
  },
  {
   "cell_type": "markdown",
   "metadata": {},
   "source": [
    "## Acerca de los datos extraídos \n",
    "Los datos de los post obtenidos a través de la biblioteca instaloader estan descritos en detalle en su documentación [acá](https://instaloader.github.io/module/structures.html#instaloader.Post). En particular los datos de: url, texto, likes, comentarios, fecha.\n",
    "\n",
    "### Utilización de pandas para visualizar y analizar los datos\n",
    "Para trabajar los datos obtenidos utilizaremos la biblioteca [pandas](https://pandas.pydata.org/) "
   ]
  },
  {
   "cell_type": "code",
   "execution_count": null,
   "metadata": {},
   "outputs": [
    {
     "name": "stdout",
     "output_type": "stream",
     "text": [
      "\n",
      "Too many queries in the last time. Need to wait 511 seconds, until 17:33.\n",
      "\n",
      "Too many queries in the last time. Need to wait 499 seconds, until 17:44.\n",
      "\n",
      "Too many queries in the last time. Need to wait 472 seconds, until 17:55.\n"
     ]
    }
   ],
   "source": [
    "columns = ['account', 'url', 'text', 'likes', 'comments', 'date']\n",
    "dataframe = pd.DataFrame(columns=[])\n",
    "\n",
    "for key in data:\n",
    "    for post in data[key]:\n",
    "        datum = {\n",
    "            'account': post.owner_username,\n",
    "            'url': post.url,\n",
    "            'text': post.caption,\n",
    "            'likes': post.likes,\n",
    "            'comments': post.comments,\n",
    "            'date': post.date\n",
    "        }\n",
    "        dataframe = dataframe.append(datum, ignore_index=True)"
   ]
  },
  {
   "cell_type": "markdown",
   "metadata": {},
   "source": [
    "## Guardar y usar los datos\n",
    "En la variable dataframe tenemos almacenados los datos deseados. Podemos guardarlos en un archivo como .csv y obtener distintas visualizaciones como las que aparecen [acá](https://pandas.pydata.org/pandas-docs/stable/user_guide/visualization.html).  "
   ]
  },
  {
   "cell_type": "code",
   "execution_count": null,
   "metadata": {},
   "outputs": [],
   "source": [
    "#Guardar datos en csv\n",
    "csv_file = 'datos.csv'\n",
    "dataframe.to_csv(csv_file)\n",
    "\n",
    "# Cargar datos desde csv\n",
    "loaded_data = pd.read_csv(csv_file)"
   ]
  },
  {
   "cell_type": "code",
   "execution_count": null,
   "metadata": {},
   "outputs": [],
   "source": [
    "#Visualización simple de likes v/s tiempo\n",
    "loaded_data.plot(y='likes', x='date')"
   ]
  }
 ],
 "metadata": {
  "kernelspec": {
   "display_name": "Python 3",
   "language": "python",
   "name": "python3"
  },
  "language_info": {
   "codemirror_mode": {
    "name": "ipython",
    "version": 3
   },
   "file_extension": ".py",
   "mimetype": "text/x-python",
   "name": "python",
   "nbconvert_exporter": "python",
   "pygments_lexer": "ipython3",
   "version": "3.8.5"
  }
 },
 "nbformat": 4,
 "nbformat_minor": 4
}
